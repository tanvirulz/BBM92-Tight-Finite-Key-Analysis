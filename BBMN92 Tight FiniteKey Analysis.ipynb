{
 "cells": [
  {
   "cell_type": "code",
   "execution_count": 1,
   "metadata": {},
   "outputs": [],
   "source": [
    "import numpy as np"
   ]
  },
  {
   "cell_type": "code",
   "execution_count": 2,
   "metadata": {},
   "outputs": [],
   "source": [
    "# Security paprameter\n",
    "epsSEC = 10**-10\n",
    "\n",
    "# Error correction parameter (Failure probability)\n",
    "epsCOR = 10**-10\n",
    "\n",
    "f = 1.18 # error correction efficiency"
   ]
  },
  {
   "cell_type": "code",
   "execution_count": 13,
   "metadata": {},
   "outputs": [],
   "source": [
    "#file_name = \"3second_data_QKDkeyextraction_6_HWP=28_3data_50pscw_4.5degreeincrement.txt\"\n",
    "file_name = \"10second_data_QKDkeyextraction_4_HWP=28_10data_50pscw.txt\"\n",
    "\n",
    "\n",
    "data = None\n",
    "with open(file_name, \"r\") as f:\n",
    "    data = np.loadtxt(f)\n",
    "    "
   ]
  },
  {
   "cell_type": "code",
   "execution_count": 14,
   "metadata": {},
   "outputs": [
    {
     "data": {
      "text/plain": [
       "array([1734318.,   28001.,   47968., 1894631., 1759525.,  137443.,\n",
       "         86202., 1742502.])"
      ]
     },
     "execution_count": 14,
     "metadata": {},
     "output_type": "execute_result"
    }
   ],
   "source": [
    "counts = np.sum(data, axis=1)\n",
    "counts #DataOrder: HH HV VH VV DD DA AD AA"
   ]
  },
  {
   "cell_type": "code",
   "execution_count": 23,
   "metadata": {},
   "outputs": [
    {
     "data": {
      "text/plain": [
       "7430590"
      ]
     },
     "execution_count": 23,
     "metadata": {},
     "output_type": "execute_result"
    }
   ],
   "source": [
    "# Raw Key Length\n",
    "raw_key_length = np.sum(counts)\n",
    "\n",
    "int(raw_key_length)"
   ]
  },
  {
   "cell_type": "code",
   "execution_count": 16,
   "metadata": {},
   "outputs": [
    {
     "name": "stdout",
     "output_type": "stream",
     "text": [
      "QBER 0.0403216972003569\n"
     ]
    }
   ],
   "source": [
    "#QBER = (HV+VH+AD+DH)/(HH+VV+DD+AA)\n",
    "\n",
    "QBER = (counts[1]+counts[2]+counts[5]+counts[6])/(raw_key_length)\n",
    "print(\"QBER\", QBER)"
   ]
  },
  {
   "cell_type": "code",
   "execution_count": null,
   "metadata": {},
   "outputs": [],
   "source": []
  },
  {
   "cell_type": "code",
   "execution_count": 17,
   "metadata": {},
   "outputs": [],
   "source": [
    "#binary entorpy function\n",
    "def h(p):\n",
    "    if p == 1: return 0\n",
    "    if p == 0: return 0\n",
    "    return -p*np.log2(p)-(1-p)*np.log2(1-p)"
   ]
  },
  {
   "cell_type": "code",
   "execution_count": 18,
   "metadata": {},
   "outputs": [],
   "source": [
    "#finite key analysis using: https://doi.org/10.1038/ncomms1631\n",
    "\n",
    "def compute_l(N,beta,qber,f): \n",
    "    q=1\n",
    "    Qtol = qber\n",
    "    k = beta*N\n",
    "    n = N - k\n",
    "    #print (\"k\",k,\"n\",n)\n",
    "    term1 = (n+k)/(n*k)\n",
    "    term2 = (k+1)/k\n",
    "    term3 = np.log(2/epsSEC)\n",
    "    interm = term1*term2*term3\n",
    "    mu = np.sqrt(interm)\n",
    "    error_term = np.log2(2/(epsSEC*epsSEC*epsCOR))\n",
    "    leakEC = f*n*h(qber)\n",
    "    if (Qtol+mu >0.11 or Qtol+mu <0 ):\n",
    "        \n",
    "        return 0\n",
    "    else:\n",
    "        #print(\"here good mu\",mu)\n",
    "        l = n*(q-h(Qtol+mu) ) - leakEC -error_term \n",
    "        return l\n"
   ]
  },
  {
   "cell_type": "code",
   "execution_count": 19,
   "metadata": {},
   "outputs": [],
   "source": [
    "#compute_l(93734,0.10,0.0439)"
   ]
  },
  {
   "cell_type": "code",
   "execution_count": 20,
   "metadata": {},
   "outputs": [],
   "source": [
    "beta_vals = np.linspace(0.0005005,.5,500)"
   ]
  },
  {
   "cell_type": "code",
   "execution_count": null,
   "metadata": {},
   "outputs": [],
   "source": []
  },
  {
   "cell_type": "code",
   "execution_count": 21,
   "metadata": {},
   "outputs": [],
   "source": [
    "def optimize(N,beta_vals,qber,f):\n",
    "    max_l = 0\n",
    "    for beta in beta_vals:\n",
    "        #print (\"beta\",beta)\n",
    "        l = compute_l(N,beta,qber,f)\n",
    "        if max_l < l:\n",
    "            #print(\"here\",l)\n",
    "            max_l = l\n",
    "            #print (\"maxl\",int(max_l))\n",
    "    return max_l"
   ]
  },
  {
   "cell_type": "code",
   "execution_count": 22,
   "metadata": {},
   "outputs": [
    {
     "name": "stdout",
     "output_type": "stream",
     "text": [
      "secret_key_length 3055524\n"
     ]
    }
   ],
   "source": [
    "secret_key_length=optimize(raw_key_length,beta_vals,QBER,f=1.18)\n",
    "\n",
    "print (\"secret_key_length\",int(secret_key_length))"
   ]
  },
  {
   "cell_type": "markdown",
   "metadata": {},
   "source": [
    "# Results\n",
    "\n",
    "## 10 sec data\n",
    "\n",
    "raw_key_length = 7430590\\\n",
    "QBER = 0.0420\\\n",
    "secret_key_length = 3055524\n",
    "\n",
    "## 3 sec data\n",
    "\n",
    "raw_key_length = 2432780\\\n",
    "QBER = 0.0225\\\n",
    "secret_key_length = 1373476\n",
    "\n",
    "## Notes\n",
    "Please report the pump rate, and total integration time, and normalize properly to get a key_rate that is, secret_key_bits/second count that are comparable to each other. \n"
   ]
  },
  {
   "cell_type": "code",
   "execution_count": null,
   "metadata": {},
   "outputs": [],
   "source": []
  },
  {
   "cell_type": "code",
   "execution_count": null,
   "metadata": {},
   "outputs": [],
   "source": []
  }
 ],
 "metadata": {
  "kernelspec": {
   "display_name": "Python 3 (ipykernel)",
   "language": "python",
   "name": "python3"
  },
  "language_info": {
   "codemirror_mode": {
    "name": "ipython",
    "version": 3
   },
   "file_extension": ".py",
   "mimetype": "text/x-python",
   "name": "python",
   "nbconvert_exporter": "python",
   "pygments_lexer": "ipython3",
   "version": "3.9.18"
  }
 },
 "nbformat": 4,
 "nbformat_minor": 4
}
